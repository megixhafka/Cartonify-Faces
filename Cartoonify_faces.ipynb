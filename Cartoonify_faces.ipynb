{
 "cells": [
  {
   "attachments": {},
   "cell_type": "markdown",
   "id": "3ff81424",
   "metadata": {},
   "source": [
    "# Cartoonify faces\n",
    "\n",
    "## Apply Video processing and Face detection techniques to place a cartoon mask instead of your face in the video."
   ]
  },
  {
   "cell_type": "code",
   "execution_count": 25,
   "id": "88fc25b8",
   "metadata": {},
   "outputs": [],
   "source": [
    "import cv2\n",
    "import os\n",
    "\n",
    "# Load the facemask image and the video stream\n",
    "facemask = cv2.imread('cartoon.png', -1)\n",
    "cap = cv2.VideoCapture(0)\n",
    "\n",
    "# Define the codec and create VideoWriter object\n",
    "fourcc = cv2.VideoWriter_fourcc(*'mp4v')\n",
    "out = cv2.VideoWriter('output.mp4', fourcc, 30.0, (int(cap.get(3)), int(cap.get(4))))\n",
    "\n",
    "# Initialize the face detection algorithm\n",
    "face_cascade = cv2.CascadeClassifier(cv2.data.haarcascades + 'haarcascade_frontalface_default.xml')\n",
    "\n",
    "while True:\n",
    "    # Read each frame of the video stream\n",
    "    ret, frame = cap.read()\n",
    "    \n",
    "    # Apply the face detection algorithm to detect the faces in the frame\n",
    "    gray = cv2.cvtColor(frame, cv2.COLOR_BGR2GRAY)\n",
    "    faces = face_cascade.detectMultiScale(gray, scaleFactor=1.1, minNeighbors=5)\n",
    "    \n",
    "    # For each detected face, resize the facemask image and apply the facemask on the face\n",
    "    for (x, y, w, h) in faces:\n",
    "        resized_facemask = cv2.resize(facemask, (w, h))\n",
    "        alpha_mask = resized_facemask[:, :, 3] / 255.0\n",
    "        alpha_image = 1.0 - alpha_mask\n",
    "        for c in range(0, 3):\n",
    "            frame[y:y+h, x:x+w, c] = (alpha_mask * resized_facemask[:, :, c] + alpha_image * frame[y:y+h, x:x+w, c])\n",
    "    \n",
    "    # Display the resulting frame with the facemask overlay\n",
    "    cv2.imshow('Facemask Overlay', frame)\n",
    "    \n",
    "    # Write the frame to the output video\n",
    "    out.write(frame)\n",
    "    \n",
    "    # Wait for a small amount of time to allow the frame to be displayed on the screen\n",
    "    if cv2.waitKey(1) & 0xFF == ord('q'):\n",
    "        break\n",
    "\n",
    "# Release the video stream and close all windows\n",
    "cap.release()\n",
    "out.release()\n",
    "cv2.destroyAllWindows()"
   ]
  },
  {
   "cell_type": "code",
   "execution_count": null,
   "id": "4f1cf6ce",
   "metadata": {},
   "outputs": [],
   "source": []
  }
 ],
 "metadata": {
  "kernelspec": {
   "display_name": "Python 3 (ipykernel)",
   "language": "python",
   "name": "python3"
  },
  "language_info": {
   "codemirror_mode": {
    "name": "ipython",
    "version": 3
   },
   "file_extension": ".py",
   "mimetype": "text/x-python",
   "name": "python",
   "nbconvert_exporter": "python",
   "pygments_lexer": "ipython3",
   "version": "3.9.15"
  }
 },
 "nbformat": 4,
 "nbformat_minor": 5
}
